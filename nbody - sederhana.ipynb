{
  "nbformat": 4,
  "nbformat_minor": 0,
  "metadata": {
    "colab": {
      "provenance": []
    },
    "kernelspec": {
      "name": "python3",
      "display_name": "Python 3"
    },
    "language_info": {
      "name": "python"
    }
  },
  "cells": [
    {
      "cell_type": "markdown",
      "source": [
        "**N-Body Simulation**\n"
      ],
      "metadata": {
        "id": "HpluMqaANdrS"
      }
    },
    {
      "cell_type": "markdown",
      "source": [
        "make a simple n-body simulation"
      ],
      "metadata": {
        "id": "OWLIWFK_OBpk"
      }
    },
    {
      "cell_type": "code",
      "execution_count": null,
      "metadata": {
        "id": "84vBBcdkL-a_"
      },
      "outputs": [],
      "source": [
        "#import library yang akan digunakan\n",
        "#tambahkan komentar agar kamu di masa depan akan berterimakasih\n",
        "\n",
        "import math\n",
        "import matplotlib.pyplot as plt\n",
        "import numpy as np\n",
        "\n",
        "%matplotlib inline"
      ]
    },
    {
      "cell_type": "markdown",
      "source": [
        "Kita akan mendefiniskan metode integrasi yang akan digunakan dalam simulasi n-benda\n",
        "\n",
        "\n",
        "\n",
        "1.   Leapfrog\n",
        "2.   Euler\n",
        "\n",
        "kalian juga dapat menggunakan metode runge-kutta (lihat lagi dalam praktikum metode numerik modul persamaan differensial)\n",
        "\n"
      ],
      "metadata": {
        "id": "RhBCYEAo7zr3"
      }
    },
    {
      "cell_type": "code",
      "source": [
        "#define euler method\n",
        "######## EULER #########\n",
        "def integrator_euler_part1(n_particles, x, v, timestep):\n",
        "    for i in range(n_particles):\n",
        "        x[i][0]  += timestep * v[i][0]\n",
        "        x[i][1]  += timestep * v[i][1]\n",
        "        x[i][2]  += timestep * v[i][2]\n",
        "\n",
        "def integrator_euler_part2(n_particles, v, a, timestep):\n",
        "    for i in range(n_particles):\n",
        "        v[i][0] += timestep * a[i][0]\n",
        "        v[i][1] += timestep * a[i][1]\n",
        "        v[i][2] += timestep * a[i][2]\n",
        "\n",
        "\n",
        "#define leapfrog method\n",
        "######## LEAPFROG #########\n",
        "def integrator_leapfrog_part1(n_particles, x, v, half_timestep):\n",
        "    for i in range(n_particles):\n",
        "        x[i][0] += half_timestep * v[i][0]\n",
        "        x[i][1] += half_timestep * v[i][1]\n",
        "        x[i][2] += half_timestep * v[i][2]\n",
        "\n",
        "def integrator_leapfrog_part2(n_particles, x, v, a, timestep, half_timestep):\n",
        "    for i in range(n_particles):\n",
        "        v[i][0] += timestep * a[i][0]\n",
        "        v[i][1] += timestep * a[i][1]\n",
        "        v[i][2] += timestep * a[i][2]\n",
        "        x[i][0]  += half_timestep * v[i][0]\n",
        "        x[i][1]  += half_timestep * v[i][1]\n",
        "        x[i][2]  += half_timestep * v[i][2]\n",
        "\n",
        "\n",
        "#definisikan perhitungan gravitasi\n",
        "######### Calculate Gravity, direct method ########\n",
        "def gravity_calculate_acceleration(n_particles, m, x, a, G):\n",
        "    for i in range(n_particles):\n",
        "        a[i][0] = 0.0 # reset\n",
        "        a[i][1] = 0.0\n",
        "        a[i][2] = 0.0\n",
        "        for j in range(n_particles):\n",
        "            if (j == i):\n",
        "                continue\n",
        "            else:\n",
        "                dx = x[i][0] - x[j][0]\n",
        "                dy = x[i][1] - x[j][1]\n",
        "                dz = x[i][2] - x[j][2]\n",
        "                r = math.sqrt(dx*dx + dy*dy + dz*dz)\n",
        "                prefact = -G*m[j]/(r*r*r)\n",
        "                a[i][0] += prefact * dx # sum for all j\n",
        "                a[i][1] += prefact * dy\n",
        "                a[i][2] += prefact * dz\n",
        "\n",
        "# main\n",
        "def integrate(m, x0, v0, tmax, dt, G=1.0):\n",
        "    npar = len(m) # number of particles\n",
        "    x = x0\n",
        "    v = v0\n",
        "    # \"create\" an empty list with size npar x 3 (ax,ay,az)\n",
        "    a = [ [0.0 for _ in range(3) ] for _ in range(npar)]\n",
        "\n",
        "    tstep = dt\n",
        "    half_tstep = 0.5*tstep\n",
        "    t = 0.0\n",
        "    xsave = []\n",
        "\n",
        "    # main iteration\n",
        "    ## backward halfstep for leapfrog\n",
        "    # gravity_calculate_acceleration(npar, m, x, a, G)\n",
        "    # for i in range(npar):\n",
        "    #     v[i][0] -= half_tstep * a[i][0]\n",
        "    #     v[i][1] -= half_tstep * a[i][1]\n",
        "    #     v[i][2] -= half_tstep * a[i][2]\n",
        "\n",
        "    while (t < tmax):\n",
        "        #integrator_leapfrog_part1(npar, x, v, half_tstep)\n",
        "        integrator_euler_part1(npar, x, v, tstep)\n",
        "        gravity_calculate_acceleration(npar, m, x, a, G)\n",
        "        #integrator_leapfrog_part2(npar, x, v, a, tstep, half_tstep)\n",
        "        integrator_euler_part2(npar, v, a, tstep)\n",
        "        t += tstep\n",
        "\n",
        "        # save position\n",
        "        # if we append list directly, the value is mutable...\n",
        "        # same value for all\n",
        "        xsave.append([])\n",
        "        for particle in x:\n",
        "            xsave[-1].append([])\n",
        "            for xyz in particle:\n",
        "                xsave[-1][-1].append(xyz)\n",
        "\n",
        "    return xsave\n",
        "\n",
        "#definisikan plotting simulasi n-benda\n",
        "def plot_xy(pos):\n",
        "    '''function to plot xy-coord'''\n",
        "\n",
        "    npar = len(pos[0])\n",
        "    pos = np.array(pos) # python-list to numpy-array\n",
        "    # for easy slicing\n",
        "\n",
        "    fig = plt.figure(figsize=(5,5))\n",
        "    ax = plt.subplot(111)\n",
        "    for i in range(npar):\n",
        "        # plot each object with different color\n",
        "        plt.plot(pos[:, i, 0], pos[:, i, 1], ',')\n",
        "\n",
        "    plt.axis('scaled') # make it using same scale for x and y\n",
        "    plt.xlabel(\"x\"); plt.ylabel(\"y\")\n",
        "    plt.show()"
      ],
      "metadata": {
        "id": "vOxrDqH1OF8E"
      },
      "execution_count": null,
      "outputs": []
    },
    {
      "cell_type": "markdown",
      "source": [
        "Test for two-body problem\n",
        "there is analytical solution for this problem.\n",
        "\n",
        "initial condition:\n",
        "\n",
        "*   m1=0.6; m2=0.4\n",
        "*   x1=(−0.4,0,0); x2=(0.6,0,0)\n",
        "*   v1=(0,−0.2,0); v2=(0,0.3,0)\n",
        "*   G = 1\n",
        "\n",
        "dt = 0.01, tmax = 100"
      ],
      "metadata": {
        "id": "DyZJaOkKONJ1"
      }
    },
    {
      "cell_type": "code",
      "source": [
        "m = [0.6, 0.4]\n",
        "x0 = [[-0.4, 0.0, 0.0], [0.6, 0.0, 0.0]]\n",
        "v0 = [[0., -0.2, 0.], [0., 0.3, 0.]]\n",
        "\n",
        "xs = integrate(m, x0, v0, 100, 0.01)\n",
        "plot_xy(xs)"
      ],
      "metadata": {
        "colab": {
          "base_uri": "https://localhost:8080/",
          "height": 226
        },
        "id": "iWFFE6e6OLSm",
        "outputId": "acadbbfe-c891-436f-857b-371c1f2b400d"
      },
      "execution_count": null,
      "outputs": [
        {
          "output_type": "display_data",
          "data": {
            "text/plain": [
              "<Figure size 360x360 with 1 Axes>"
            ],
            "image/png": "[encoded data removed]"
          },
          "metadata": {
            "needs_background": "light"
          }
        }
      ]
    },
    {
      "cell_type": "markdown",
      "source": [
        "dt = 0.001, tmax = 100"
      ],
      "metadata": {
        "id": "Q735yUHYOn1w"
      }
    },
    {
      "cell_type": "code",
      "source": [
        "m = [0.6, 0.4]\n",
        "x0 = [[-0.4, 0.0, 0.0], [0.6, 0.0, 0.0]]\n",
        "v0 = [[0., -0.2, 0.], [0., 0.3, 0.]]\n",
        "\n",
        "xs = integrate(m, x0, v0, 100, 0.001)\n",
        "plot_xy(xs)"
      ],
      "metadata": {
        "colab": {
          "base_uri": "https://localhost:8080/",
          "height": 189
        },
        "id": "PVkhpVjjOnTY",
        "outputId": "40f12bd4-ba65-4a09-edc6-33344ebfb73d"
      },
      "execution_count": null,
      "outputs": [
        {
          "output_type": "display_data",
          "data": {
            "text/plain": [
              "<Figure size 360x360 with 1 Axes>"
            ],
            "image/png": "[encoded data removed]"
          },
          "metadata": {
            "needs_background": "light"
          }
        }
      ]
    },
    {
      "cell_type": "markdown",
      "source": [
        "Test for three-body problem\n",
        "initial condition:\n",
        "\n",
        "\n",
        "*   m1=3, m2=4, and m3=5\n",
        "*   r1 = (1.0,3.0,0.0)\n",
        "*   r2 = (−2.0,−1.0,0.0)\n",
        "*   r3 = (1.0,−1.0,0.0)\n",
        "*   v123 = (0,0,0)\n",
        "\n",
        "use G = 1.0\n",
        "\n",
        "dt = 0.001, tmax = 5.0"
      ],
      "metadata": {
        "id": "gNDlI7I4OtI_"
      }
    },
    {
      "cell_type": "code",
      "source": [
        "m = [3.0, 4.0, 5.0]\n",
        "x0 = [[1.0, 3.0, 0.0], [-2.0, -1.0, 0.0], [1.0, -1.0, 0.0]]\n",
        "v0 = [[0.0, 0.0, 0.0], [0.0, 0.0, 0.0], [0.0, 0.0, 0.0]]\n",
        "\n",
        "xs = integrate(m, x0, v0, 5.0, 0.001)\n",
        "plot_xy(xs)"
      ],
      "metadata": {
        "colab": {
          "base_uri": "https://localhost:8080/",
          "height": 334
        },
        "id": "OKMv1WPtOqe6",
        "outputId": "5fea4b01-9740-4220-94da-63e4e04dd1db"
      },
      "execution_count": null,
      "outputs": [
        {
          "output_type": "display_data",
          "data": {
            "text/plain": [
              "<Figure size 360x360 with 1 Axes>"
            ],
            "image/png": "[encoded data removed]"
          },
          "metadata": {
            "needs_background": "light"
          }
        }
      ]
    },
    {
      "cell_type": "markdown",
      "source": [
        "dt = 0.0001, tmax = 5.0"
      ],
      "metadata": {
        "id": "sA-aUU3xPfw6"
      }
    },
    {
      "cell_type": "code",
      "source": [
        "m = [3.0, 4.0, 5.0]\n",
        "x0 = [[1.0, 3.0, 0.0], [-2.0, -1.0, 0.0], [1.0, -1.0, 0.0]]\n",
        "v0 = [[0.0, 0.0, 0.0], [0.0, 0.0, 0.0], [0.0, 0.0, 0.0]]\n",
        "\n",
        "xs = integrate(m, x0, v0, 5.0, 0.0001)\n",
        "plot_xy(xs)"
      ],
      "metadata": {
        "colab": {
          "base_uri": "https://localhost:8080/",
          "height": 321
        },
        "id": "N9gIma2qPgni",
        "outputId": "3a320ed6-934d-4e06-dd81-4e8f4718c56c"
      },
      "execution_count": null,
      "outputs": [
        {
          "output_type": "display_data",
          "data": {
            "text/plain": [
              "<Figure size 360x360 with 1 Axes>"
            ],
            "image/png": "[encoded data removed]"
          },
          "metadata": {
            "needs_background": "light"
          }
        }
      ]
    }
  ]
}